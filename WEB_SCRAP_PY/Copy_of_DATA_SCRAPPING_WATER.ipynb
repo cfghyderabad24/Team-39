{
  "nbformat": 4,
  "nbformat_minor": 0,
  "metadata": {
    "colab": {
      "provenance": []
    },
    "kernelspec": {
      "name": "python3",
      "display_name": "Python 3"
    },
    "language_info": {
      "name": "python"
    }
  },
  "cells": [
    {
      "cell_type": "code",
      "source": [
        "!pip install requests_html"
      ],
      "metadata": {
        "colab": {
          "base_uri": "https://localhost:8080/"
        },
        "id": "JebQgzbhG-Fs",
        "outputId": "5a3e898c-1c9f-43b4-ee26-0c2a49c8b610"
      },
      "execution_count": 1,
      "outputs": [
        {
          "output_type": "stream",
          "name": "stdout",
          "text": [
            "Collecting requests_html\n",
            "  Downloading requests_html-0.10.0-py3-none-any.whl (13 kB)\n",
            "Requirement already satisfied: requests in /usr/local/lib/python3.10/dist-packages (from requests_html) (2.31.0)\n",
            "Collecting pyquery (from requests_html)\n",
            "  Downloading pyquery-2.0.0-py3-none-any.whl (22 kB)\n",
            "Collecting fake-useragent (from requests_html)\n",
            "  Downloading fake_useragent-1.5.1-py3-none-any.whl (17 kB)\n",
            "Collecting parse (from requests_html)\n",
            "  Downloading parse-1.20.2-py2.py3-none-any.whl (20 kB)\n",
            "Collecting bs4 (from requests_html)\n",
            "  Downloading bs4-0.0.2-py2.py3-none-any.whl (1.2 kB)\n",
            "Collecting w3lib (from requests_html)\n",
            "  Downloading w3lib-2.2.1-py3-none-any.whl (21 kB)\n",
            "Collecting pyppeteer>=0.0.14 (from requests_html)\n",
            "  Downloading pyppeteer-2.0.0-py3-none-any.whl (82 kB)\n",
            "\u001b[2K     \u001b[90m━━━━━━━━━━━━━━━━━━━━━━━━━━━━━━━━━━━━━━━━\u001b[0m \u001b[32m82.9/82.9 kB\u001b[0m \u001b[31m5.7 MB/s\u001b[0m eta \u001b[36m0:00:00\u001b[0m\n",
            "\u001b[?25hCollecting appdirs<2.0.0,>=1.4.3 (from pyppeteer>=0.0.14->requests_html)\n",
            "  Downloading appdirs-1.4.4-py2.py3-none-any.whl (9.6 kB)\n",
            "Requirement already satisfied: certifi>=2023 in /usr/local/lib/python3.10/dist-packages (from pyppeteer>=0.0.14->requests_html) (2024.6.2)\n",
            "Requirement already satisfied: importlib-metadata>=1.4 in /usr/local/lib/python3.10/dist-packages (from pyppeteer>=0.0.14->requests_html) (7.1.0)\n",
            "Collecting pyee<12.0.0,>=11.0.0 (from pyppeteer>=0.0.14->requests_html)\n",
            "  Downloading pyee-11.1.0-py3-none-any.whl (15 kB)\n",
            "Requirement already satisfied: tqdm<5.0.0,>=4.42.1 in /usr/local/lib/python3.10/dist-packages (from pyppeteer>=0.0.14->requests_html) (4.66.4)\n",
            "Collecting urllib3<2.0.0,>=1.25.8 (from pyppeteer>=0.0.14->requests_html)\n",
            "  Downloading urllib3-1.26.19-py2.py3-none-any.whl (143 kB)\n",
            "\u001b[2K     \u001b[90m━━━━━━━━━━━━━━━━━━━━━━━━━━━━━━━━━━━━━━━━\u001b[0m \u001b[32m143.9/143.9 kB\u001b[0m \u001b[31m4.5 MB/s\u001b[0m eta \u001b[36m0:00:00\u001b[0m\n",
            "\u001b[?25hCollecting websockets<11.0,>=10.0 (from pyppeteer>=0.0.14->requests_html)\n",
            "  Downloading websockets-10.4-cp310-cp310-manylinux_2_5_x86_64.manylinux1_x86_64.manylinux_2_17_x86_64.manylinux2014_x86_64.whl (106 kB)\n",
            "\u001b[2K     \u001b[90m━━━━━━━━━━━━━━━━━━━━━━━━━━━━━━━━━━━━━━━━\u001b[0m \u001b[32m106.8/106.8 kB\u001b[0m \u001b[31m2.4 MB/s\u001b[0m eta \u001b[36m0:00:00\u001b[0m\n",
            "\u001b[?25hRequirement already satisfied: beautifulsoup4 in /usr/local/lib/python3.10/dist-packages (from bs4->requests_html) (4.12.3)\n",
            "Requirement already satisfied: lxml>=2.1 in /usr/local/lib/python3.10/dist-packages (from pyquery->requests_html) (4.9.4)\n",
            "Collecting cssselect>=1.2.0 (from pyquery->requests_html)\n",
            "  Downloading cssselect-1.2.0-py2.py3-none-any.whl (18 kB)\n",
            "Requirement already satisfied: charset-normalizer<4,>=2 in /usr/local/lib/python3.10/dist-packages (from requests->requests_html) (3.3.2)\n",
            "Requirement already satisfied: idna<4,>=2.5 in /usr/local/lib/python3.10/dist-packages (from requests->requests_html) (3.7)\n",
            "Requirement already satisfied: zipp>=0.5 in /usr/local/lib/python3.10/dist-packages (from importlib-metadata>=1.4->pyppeteer>=0.0.14->requests_html) (3.19.2)\n",
            "Requirement already satisfied: typing-extensions in /usr/local/lib/python3.10/dist-packages (from pyee<12.0.0,>=11.0.0->pyppeteer>=0.0.14->requests_html) (4.12.2)\n",
            "Requirement already satisfied: soupsieve>1.2 in /usr/local/lib/python3.10/dist-packages (from beautifulsoup4->bs4->requests_html) (2.5)\n",
            "Installing collected packages: parse, fake-useragent, appdirs, websockets, w3lib, urllib3, pyee, cssselect, pyquery, pyppeteer, bs4, requests_html\n",
            "  Attempting uninstall: urllib3\n",
            "    Found existing installation: urllib3 2.0.7\n",
            "    Uninstalling urllib3-2.0.7:\n",
            "      Successfully uninstalled urllib3-2.0.7\n",
            "Successfully installed appdirs-1.4.4 bs4-0.0.2 cssselect-1.2.0 fake-useragent-1.5.1 parse-1.20.2 pyee-11.1.0 pyppeteer-2.0.0 pyquery-2.0.0 requests_html-0.10.0 urllib3-1.26.19 w3lib-2.2.1 websockets-10.4\n"
          ]
        }
      ]
    },
    {
      "cell_type": "code",
      "source": [],
      "metadata": {
        "id": "QaeSP2ubOJPQ"
      },
      "execution_count": null,
      "outputs": []
    },
    {
      "cell_type": "code",
      "source": [
        "list"
      ],
      "metadata": {
        "id": "X1gG90oonglR"
      },
      "execution_count": null,
      "outputs": []
    },
    {
      "cell_type": "code",
      "source": [
        "import urllib.parse\n",
        "\n",
        "# URL encoded string\n",
        "encoded_url = 'https://www.mca.gov.in/content/csr/global/master/home/home/csr-expenditure--geographical-distribution/state/district/company.html?=The%20Singareni%20Collieries%20Company%20Limited=U10102TG1920SGC000571=FY%202021-22'\n",
        "encode_url2=\"https://www.mca.gov.in/content/csr/global/master/home/home/csr-expenditure--geographical-distribution/state/district/company.html?=Aurobindo%20Pharma%20Ltd=L24239TG1986PLC015190=FY%202021-22\"\n",
        "# Decoding the URL\n",
        "decoded_url = urllib.parse.unquote(encoded_url)\n",
        "decoded_url2 = urllib.parse.unquote(encode_url2)\n",
        "\n",
        "print(\"Encoded URL:\", encoded_url)\n",
        "print(\"Decoded URL:\", decoded_url)\n",
        "print()\n",
        "print(\"Encoded URL:\", encode_url2)\n",
        "print(\"Decoded URL:\", decoded_url2)\n"
      ],
      "metadata": {
        "colab": {
          "base_uri": "https://localhost:8080/"
        },
        "id": "o8yzFQAorovG",
        "outputId": "68b0532b-4917-493c-a951-1f734f75446d"
      },
      "execution_count": null,
      "outputs": [
        {
          "output_type": "stream",
          "name": "stdout",
          "text": [
            "Encoded URL: https://www.mca.gov.in/content/csr/global/master/home/home/csr-expenditure--geographical-distribution/state/district/company.html?=The%20Singareni%20Collieries%20Company%20Limited=U10102TG1920SGC000571=FY%202021-22\n",
            "Decoded URL: https://www.mca.gov.in/content/csr/global/master/home/home/csr-expenditure--geographical-distribution/state/district/company.html?=The Singareni Collieries Company Limited=U10102TG1920SGC000571=FY 2021-22\n",
            "\n",
            "Encoded URL: https://www.mca.gov.in/content/csr/global/master/home/home/csr-expenditure--geographical-distribution/state/district/company.html?=Aurobindo%20Pharma%20Ltd=L24239TG1986PLC015190=FY%202021-22\n",
            "Decoded URL: https://www.mca.gov.in/content/csr/global/master/home/home/csr-expenditure--geographical-distribution/state/district/company.html?=Aurobindo Pharma Ltd=L24239TG1986PLC015190=FY 2021-22\n"
          ]
        }
      ]
    },
    {
      "cell_type": "markdown",
      "source": [],
      "metadata": {
        "id": "LghlDRAUwaMi"
      }
    },
    {
      "cell_type": "code",
      "source": [
        "company_details=[[\"Aurobindo Pharma Ltd\",\"L24239TG1986PLC015190\"]]"
      ],
      "metadata": {
        "id": "Zgs7A53St_vV"
      },
      "execution_count": null,
      "outputs": []
    },
    {
      "cell_type": "code",
      "source": [
        "for i in range(len(company_details)):\n",
        "    company_name = company_details[i][0]\n",
        "    CIN = company_details[i][1]\n",
        "    url = f\"https://www.mca.gov.in/content/csr/global/master/home/home/csr-expenditure--geographical-distribution/state/district/company.html?company_name={company_name}&CIN={CIN}&FY=2021-22\"\n",
        "    print(url)"
      ],
      "metadata": {
        "colab": {
          "base_uri": "https://localhost:8080/"
        },
        "id": "Wm6UUJB1vil9",
        "outputId": "43ecb870-686a-49c9-f031-cc8c757354bc"
      },
      "execution_count": null,
      "outputs": [
        {
          "output_type": "stream",
          "name": "stdout",
          "text": [
            "https://www.mca.gov.in/content/csr/global/master/home/home/csr-expenditure--geographical-distribution/state/district/company.html?company_name=Aurobindo Pharma Ltd&CIN=L24239TG1986PLC015190&FY=2021-22\n"
          ]
        }
      ]
    },
    {
      "cell_type": "code",
      "source": [
        "import urllib.parse\n",
        "\n",
        "company_name = \"Aurobindo Pharma Ltd\"\n",
        "CIN = \"L24239TG1986PLC015190\"\n",
        "\n",
        "def encode_url():\n",
        "  \"\"\"Encodes company name, CIN, and builds the URL.\"\"\"\n",
        "  encoded_company_name = urllib.parse.quote(company_name)\n",
        "  encoded_CIN = urllib.parse.quote(CIN)\n",
        "  url = f\"https://www.mca.gov.in/content/csr/global/master/home/home/csr-expenditure--geographical-distribution/state/district/company.html?company_name={encoded_company_name}&CIN={encoded_CIN}&FY=2021-22\"\n",
        "  return url  # Return the constructed URL\n",
        "\n",
        "# Call the function to execute the code\n",
        "final_url = encode_url()\n",
        "\n",
        "print(final_url)\n"
      ],
      "metadata": {
        "colab": {
          "base_uri": "https://localhost:8080/"
        },
        "id": "nqDtZGJlxo6_",
        "outputId": "92f64b95-d399-4080-b298-f934906dbd63"
      },
      "execution_count": null,
      "outputs": [
        {
          "output_type": "stream",
          "name": "stdout",
          "text": [
            "https://www.mca.gov.in/content/csr/global/master/home/home/csr-expenditure--geographical-distribution/state/district/company.html?company_name=Aurobindo%20Pharma%20Ltd&CIN=L24239TG1986PLC015190&FY=2021-22\n"
          ]
        }
      ]
    },
    {
      "cell_type": "code",
      "source": [
        "from requests_html import AsyncHTMLSession\n",
        "import nest_asyncio\n",
        "import asyncio\n",
        "import pandas as pd\n",
        "\n",
        "async def fetch_data(url):\n",
        "    session = AsyncHTMLSession()\n",
        "    response = await session.get(url)\n",
        "    await response.html.arender(timeout=20, sleep=5)\n",
        "    csr_details_table_body = response.html.find('#csrDetailsTableBody')\n",
        "    await session.close()\n",
        "    return csr_details_table_body\n",
        "\n",
        "async def main():\n",
        "    # List of companies and their respective URLs\n",
        "    company_details = [\n",
        "        [\"Aurobindo Pharma Ltd\", \"https://www.mca.gov.in/content/csr/global/master/home/home/csr-expenditure--geographical-distribution/state/district/company.html?=Aurobindo%20Pharma%20Ltd=L24239TG1986PLC015190=FY%202021-22\"],\n",
        "        [\"Bharat Dynamics Limited\", \"https://www.mca.gov.in/content/csr/global/master/home/home/csr-expenditure--geographical-distribution/state/district/company.html?=Bharat%20Dynamics%20Limited=L24292TG1970GOI001353=FY%202021-22\"]\n",
        "    ]\n",
        "\n",
        "    all_table_data = []\n",
        "\n",
        "    for company_name, url in company_details:\n",
        "        csr_details_table_body = await fetch_data(url)\n",
        "        if csr_details_table_body:\n",
        "            for row in csr_details_table_body[0].find('tr'):\n",
        "                cells = row.find('td')\n",
        "                if cells and len(cells) >= 4 and cells[2].text.strip() == \"Safe Drinking Water\":\n",
        "                    row_data = [company_name]  # Start with the company name\n",
        "                    for cell in cells:\n",
        "                        row_data.append(cell.text.strip())\n",
        "                    all_table_data.append(row_data)\n",
        "\n",
        "    if all_table_data:\n",
        "        # Print the number of columns in the first row to debug\n",
        "        print(f\"Number of columns in the first row: {len(all_table_data[0])}\")\n",
        "\n",
        "        # Create a DataFrame with appropriate column names based on the actual number of columns\n",
        "        num_columns = len(all_table_data[0])\n",
        "        column_names = [\"Company Name\"] + [\"S.No\"] + [\"CSR_PROJECT\"] + [\"DEVLEOPMENT SECTOR\"] + [\"STATE\"] + [\"DISTRICT\"] + [\"Project Amount Outlay(INR Cr.)\"] + [\"Amount Spent (INR Cr.)\"] + [\"Mode of Implementation\"]\n",
        "\n",
        "        # Convert all_table_data into a pandas DataFrame and sort by the 4th column (index 3)\n",
        "        df = pd.DataFrame(all_table_data, columns=column_names)\n",
        "        sorted_df = df.sort_values(by=[\"DEVLEOPMENT SECTOR\"], ascending=True)  # Sort by 3rd column (index 2)\n",
        "\n",
        "        # Set the company name as the index\n",
        "        sorted_df.set_index(\"Company Name\", inplace=True)\n",
        "\n",
        "        # Save the sorted DataFrame to a CSV file (with index=True to include the index)\n",
        "        sorted_df.to_csv(\"filtered_data.csv\", index=True)\n",
        "\n",
        "        print(\"Data saved to filtered_data.csv\")\n",
        "    else:\n",
        "        print(\"No rows found containing 'Safe Drinking Water' in the 4th column.\")\n",
        "\n",
        "# Allow nested asyncio event loops (needed for Jupyter and some interactive shells)\n",
        "nest_asyncio.apply()\n",
        "\n",
        "# Run the asynchronous main function\n",
        "if __name__ == \"__main__\":\n",
        "    asyncio.run(main())\n"
      ],
      "metadata": {
        "colab": {
          "base_uri": "https://localhost:8080/"
        },
        "id": "N5dIGZv21-j_",
        "outputId": "13ef1365-8b51-43d8-de7c-7d966c53ab07"
      },
      "execution_count": null,
      "outputs": [
        {
          "output_type": "stream",
          "name": "stdout",
          "text": [
            "Number of columns in the first row: 9\n",
            "Data saved to filtered_data.csv\n"
          ]
        }
      ]
    },
    {
      "cell_type": "code",
      "source": [
        "async def main():\n",
        "    # List of companies and their respective URLs\n",
        "    company_details = [\n",
        "        [\"Aurobindo Pharma Ltd\", \"https://www.mca.gov.in/content/csr/global/master/home/home/csr-expenditure--geographical-distribution/state/district/company.html?=Aurobindo%20Pharma%20Ltd=L24239TG1986PLC015190=FY%202021-22\"],\n",
        "        [\"Bharat Dynamics Limited\", \"https://www.mca.gov.in/content/csr/global/master/home/home/csr-expenditure--geographical-distribution/state/district/company.html?=Bharat%20Dynamics%20Limited=L24292TG1970GOI001353=FY%202021-22\"]\n",
        "    ]\n",
        "\n",
        "    all_table_data = []\n",
        "\n",
        "    for company_name, url in company_details:\n",
        "        csr_details_table_body = await fetch_data(url)\n",
        "        if csr_details_table_body:\n",
        "            for row in csr_details_table_body[0].find('tr'):\n",
        "                cells = row.find('td')\n",
        "                if cells and len(cells) >= 4 and (cells[2].text.strip() in [\"Safe Drinking Water\", \"Sanitation\", \"Environment\"]):\n",
        "                    row_data = [company_name]  # Start with the company name\n",
        "                    for cell in cells:\n",
        "                        row_data.append(cell.text.strip())\n",
        "                    all_table_data.append(row_data)\n",
        "\n",
        "    if all_table_data:\n",
        "        # Print the number of columns in the first row to debug\n",
        "        print(f\"Number of columns in the first row: {len(all_table_data[0])}\")\n",
        "\n",
        "        # Create a DataFrame with appropriate column names based on the actual number of columns\n",
        "        num_columns = len(all_table_data[0])\n",
        "        column_names = [\"Company Name\"] + [\"S.No\"] + [\"CSR_PROJECT\"] + [\"DEVLEOPMENT SECTOR\"] + [\"STATE\"] + [\"DISTRICT\"] + [\"Project Amount Outlay(INR Cr.)\"] + [\"Amount Spent (INR Cr.)\"] + [\"Mode of Implementation\"]\n",
        "\n",
        "        # Convert all_table_data into a pandas DataFrame and sort by the 4th column (index 3)\n",
        "        df = pd.DataFrame(all_table_data, columns=column_names)\n",
        "        sorted_df = df.sort_values(by=[\"DEVLEOPMENT SECTOR\"], ascending=True)  # Sort by 3rd column (index 2)\n",
        "\n",
        "        # Set the company name as the index\n",
        "        sorted_df.set_index(\"Company Name\", inplace=True)\n",
        "\n",
        "        # Save the sorted DataFrame to a CSV file (with index=True to include the index)\n",
        "        sorted_df.to_csv(\"filtered_data.csv\", index=True)\n",
        "\n",
        "        print(\"Data saved to filtered_data.csv\")\n",
        "    else:\n",
        "        print(\"No rows found containing 'Safe Drinking Water', 'Sanitation', or 'Environment' in the 4th column.\")\n",
        "\n",
        "\n",
        "nest_asyncio.apply()\n",
        "\n",
        "# Run the asynchronous main function\n",
        "if __name__ == \"__main__\":\n",
        "    asyncio.run(main())\n"
      ],
      "metadata": {
        "colab": {
          "base_uri": "https://localhost:8080/"
        },
        "id": "KWE_H7Uz6TcB",
        "outputId": "8840a3d8-234b-4271-f594-0910367837bb"
      },
      "execution_count": null,
      "outputs": [
        {
          "output_type": "stream",
          "name": "stdout",
          "text": [
            "Number of columns in the first row: 9\n",
            "Data saved to filtered_data.csv\n"
          ]
        }
      ]
    },
    {
      "cell_type": "code",
      "source": [
        "async def main():\n",
        "    # List of companies and their respective URLs\n",
        "    company_details = [\n",
        "        [\"Aurobindo Pharma Ltd\", \"https://www.mca.gov.in/content/csr/global/master/home/home/csr-expenditure--geographical-distribution/state/district/company.html?=Aurobindo%20Pharma%20Ltd=L24239TG1986PLC015190=FY%202021-22\"],\n",
        "        [\"Bharat Dynamics Limited\", \"https://www.mca.gov.in/content/csr/global/master/home/home/csr-expenditure--geographical-distribution/state/district/company.html?=Bharat%20Dynamics%20Limited=L24292TG1970GOI001353=FY%202021-22\"],\n",
        "        [\"Oil and Natural Gas Corporation\", \"https://www.csr.gov.in/content/csr/global/master/home/home/csr-expenditure--geographical-distribution/state/district/company.html?=Oil%20And%20Natural%20Gas%20Corporation%20Limited=L74899DL1993GOI054155=FY%202021-22\"]\n",
        "    ]\n",
        "\n",
        "    all_table_data = []\n",
        "\n",
        "    for company_name, url in company_details:\n",
        "        csr_details_table_body = await fetch_data(url)\n",
        "        if csr_details_table_body:\n",
        "            for row in csr_details_table_body[0].find('tr'):\n",
        "                cells = row.find('td')\n",
        "                if cells and len(cells) >= 4 and (cells[2].text.strip() in [\"Safe Drinking Water\", \"Sanitation\", \"Environment\"]):\n",
        "                    row_data = [company_name]  # Start with the company name\n",
        "                    for cell in cells:\n",
        "                        row_data.append(cell.text.strip())\n",
        "                    all_table_data.append(row_data)\n",
        "\n",
        "    if all_table_data:\n",
        "        # Print the number of columns in the first row to debug\n",
        "        print(f\"Number of columns in the first row: {len(all_table_data[0])}\")\n",
        "\n",
        "        # Create a DataFrame with appropriate column names based on the actual number of columns\n",
        "        num_columns = len(all_table_data[0])\n",
        "        column_names = [\"Company Name\"] + [\"S.No\"] + [\"CSR_PROJECT\"] + [\"DEVLEOPMENT SECTOR\"] + [\"STATE\"] + [\"DISTRICT\"] + [\"Project Amount Outlay(INR Cr.)\"] + [\"Amount Spent (INR Cr.)\"] + [\"Mode of Implementation\"]\n",
        "\n",
        "        # Convert all_table_data into a pandas DataFrame and sort by the 4th column (index 3)\n",
        "        df = pd.DataFrame(all_table_data, columns=column_names)\n",
        "        sorted_df = df.sort_values(by=[\"DEVLEOPMENT SECTOR\"], ascending=True)  # Sort by 3rd column (index 2)\n",
        "\n",
        "        # Set the company name as the index\n",
        "        sorted_df.set_index(\"Company Name\", inplace=True)\n",
        "\n",
        "        # Save the sorted DataFrame to a CSV file (with index=True to include the index)\n",
        "        sorted_df.to_csv(\"filtered_data.csv\", index=True)\n",
        "\n",
        "        print(\"Data saved to filtered_data.csv\")\n",
        "    else:\n",
        "        print(\"No rows found containing 'Safe Drinking Water', 'Sanitation', or 'Environment' in the 4th column.\")\n",
        "\n",
        "# Allow nested asyncio event loops (needed for Jupyter and some interactive shells)\n",
        "nest_asyncio.apply()\n",
        "\n",
        "# Run the asynchronous main function\n",
        "if __name__ == \"__main__\":\n",
        "    asyncio.run(main())\n"
      ],
      "metadata": {
        "colab": {
          "base_uri": "https://localhost:8080/"
        },
        "id": "R6S9z1Vo61s6",
        "outputId": "2bb2234e-b66b-44ca-db9c-1b52d789fdc2"
      },
      "execution_count": null,
      "outputs": [
        {
          "output_type": "stream",
          "name": "stdout",
          "text": [
            "Number of columns in the first row: 9\n",
            "Data saved to filtered_data.csv\n"
          ]
        }
      ]
    },
    {
      "cell_type": "code",
      "source": [
        "from requests_html import AsyncHTMLSession\n",
        "import nest_asyncio\n",
        "import asyncio\n",
        "import pandas as pd\n",
        "from tabulate import tabulate\n",
        "\n",
        "async def fetch_data(url):\n",
        "    session = AsyncHTMLSession()\n",
        "    response = await session.get(url)\n",
        "    await response.html.arender(timeout=20, sleep=5)\n",
        "    csr_details_table = response.html.find('#csrDetailsTable')\n",
        "    csr_details_table_body = response.html.find('#csrDetailsTableBody')\n",
        "    await session.close()\n",
        "    return csr_details_table, csr_details_table_body\n",
        "\n"
      ],
      "metadata": {
        "id": "0IDuqViJ7ixM"
      },
      "execution_count": 3,
      "outputs": []
    },
    {
      "cell_type": "code",
      "source": [
        "async def main():\n",
        "    company_details = [\n",
        "        [\"Jsw Steel Limited\", \"https://www.csr.gov.in/content/csr/global/master/home/home/csr-expenditure--geographical-distribution/state/district/company.html?=Jsw%20Steel%20Limited=L27102MH1994PLC152925=FY%202021-22\"],\n",
        "        [\"Aurobindo Pharma Ltd\", \"https://www.mca.gov.in/content/csr/global/master/home/home/csr-expenditure--geographical-distribution/state/district/company.html?=Aurobindo%20Pharma%20Ltd=L24239TG1986PLC015190=FY%202021-22\"],\n",
        "        [\"Bharat Dynamics Limited\", \"https://www.mca.gov.in/content/csr/global/master/home/home/csr-expenditure--geographical-distribution/state/district/company.html?=Bharat%20Dynamics%20Limited=L24292TG1970GOI001353=FY%202021-22\"],\n",
        "    ]\n",
        "\n",
        "    all_table_data = []\n",
        "\n",
        "    for company_name, url in company_details:\n",
        "        csr_details_table, csr_details_table_body = await fetch_data(url)\n",
        "        if csr_details_table_body:\n",
        "            for row in csr_details_table_body[0].find('tr'):\n",
        "                cells = row.find('td')\n",
        "                if cells and len(cells) >= 4 and cells[2].text.strip() in [\"Safe Drinking Water\", \"Sanitation\", \"Environment\"]:\n",
        "                    row_data = [company_name]\n",
        "                    for cell in cells:\n",
        "                        row_data.append(cell.text.strip())\n",
        "                    all_table_data.append(row_data)\n",
        "\n",
        "    if all_table_data:\n",
        "        print(f\"Number of rows found: {len(all_table_data)}\")\n",
        "\n",
        "        # Create DataFrame and save to CSV\n",
        "        column_names = [\"Company Name\", \"S.No\", \"CSR_PROJECT\", \"DEVLEOPMENT SECTOR\", \"STATE\", \"DISTRICT\", \"Project Amount Outlay(INR Cr.)\", \"Amount Spent (INR Cr.)\", \"Mode of Implementation\"]\n",
        "        df = pd.DataFrame(all_table_data, columns=column_names)\n",
        "        sorted_df = df.sort_values(by=[\"DEVLEOPMENT SECTOR\"], ascending=True)\n",
        "        sorted_df.set_index(\"Company Name\", inplace=True)\n",
        "        sorted_df.to_csv(\"filtered_data.csv\", index=True)\n",
        "        print(\"Data saved to filtered_data.csv\")\n",
        "\n",
        "        # Display the DataFrame as a table in the console\n",
        "        print(tabulate(sorted_df, headers='keys', tablefmt='psql'))\n",
        "    else:\n",
        "        print(\"No rows found containing 'Safe Drinking Water', 'Sanitation', or 'Environment' in the 4th column.\")\n",
        "\n",
        "nest_asyncio.apply()\n",
        "\n",
        "if __name__ == \"__main__\":\n",
        "    asyncio.run(main())\n"
      ],
      "metadata": {
        "colab": {
          "base_uri": "https://localhost:8080/"
        },
        "id": "imGd5wMDRyk1",
        "outputId": "ab15d6ae-ee89-4cef-b9ec-8d7e96fa7841"
      },
      "execution_count": 6,
      "outputs": [
        {
          "output_type": "stream",
          "name": "stdout",
          "text": [
            "Number of rows found: 4\n",
            "Data saved to filtered_data.csv\n",
            "+-------------------------+--------+------------------------------------------------------------------------------------------------------+----------------------+-----------+--------------------+----------------------------------+--------------------------+--------------------------+\n",
            "| Company Name            |   S.No | CSR_PROJECT                                                                                          | DEVLEOPMENT SECTOR   | STATE     | DISTRICT           |   Project Amount Outlay(INR Cr.) |   Amount Spent (INR Cr.) | Mode of Implementation   |\n",
            "|-------------------------+--------+------------------------------------------------------------------------------------------------------+----------------------+-----------+--------------------+----------------------------------+--------------------------+--------------------------|\n",
            "| Aurobindo Pharma Ltd    |     10 | To Make Safe Drinking Water Available In Rural Areas, Established Various Capacities Of Ro Water Pla | Safe Drinking Water  | Pan India | Nec/ Not Mentioned |                                0 |                     0.8  | Directly by company      |\n",
            "| Bharat Dynamics Limited |     17 | Maintenance Of 3 Ro Water Plants At Narayanpur, Janagaon & Peeplepahad                               | Safe Drinking Water  | Telangana | Nalgonda           |                                0 |                     0.16 | Directly by company      |\n",
            "| Bharat Dynamics Limited |     13 | Construction Of Girls Toilets In Govt. Schools Of Rajanna Sircilla                                   | Sanitation           | Telangana | Karimnagar         |                                0 |                     1    | Directly by company      |\n",
            "| Bharat Dynamics Limited |     14 | Construction Of Toilets In Govt. Schools                                                             | Sanitation           | Telangana | Mahbubnagar        |                                0 |                     0.09 | Directly by company      |\n",
            "+-------------------------+--------+------------------------------------------------------------------------------------------------------+----------------------+-----------+--------------------+----------------------------------+--------------------------+--------------------------+\n"
          ]
        }
      ]
    },
    {
      "cell_type": "code",
      "source": [
        "# prompt: hindustan zinc limited is also havinf sanitation, but in the result it is not showing\n",
        "\n",
        "import pandas as pd\n",
        "import requests\n",
        "from bs4 import BeautifulSoup\n",
        "import re\n",
        "\n",
        "url = \"https://www.csr.gov.in/content/csr/global/master/home/home/csr-expenditure--geographical-distribution/state/district/company.html?=Hindustan%20Zinc%20Limited=L27204RJ1966PLC001208=FY%202021-22\"\n",
        "\n",
        "response = requests.get(url)\n",
        "soup = BeautifulSoup(response.content, \"html.parser\")\n",
        "\n",
        "table = soup.find_all('table', id=\"csrDetailsTable\")[0]\n",
        "\n",
        "rows = table.find_all('tr')\n",
        "\n",
        "data = []\n",
        "\n",
        "for row in rows:\n",
        "    cols = row.find_all('td')\n",
        "    cols = [ele.text.strip() for ele in cols if ele.text.strip()]\n",
        "    data.append(cols)  # Get rid of empty values\n",
        "\n",
        "# Create a DataFrame with appropriate column names\n",
        "df = pd.DataFrame(data, columns=[\"S.No\", \"CSR_PROJECT\", \"DEVLEOPMENT SECTOR\", \"STATE\", \"DISTRICT\", \"Project Amount Outlay(INR Cr.)\", \"Amount Spent (INR Cr.)\", \"Mode of Implementation\"])\n",
        "\n",
        "# Filter rows where DEVELOPMENT SECTOR contains \"Sanitation\"\n",
        "filtered_df = df[df[\"DEVLEOPMENT SECTOR\"].str.contains(\"Sanitation\", case=True, regex=True)]\n",
        "\n",
        "# Display the filtered DataFrame\n",
        "print(tabulate(filtered_df, headers='keys', tablefmt='psql'))\n"
      ],
      "metadata": {
        "colab": {
          "base_uri": "https://localhost:8080/"
        },
        "id": "NW8L1bNcSMUf",
        "outputId": "a1892370-ab7e-4915-ffdc-a1bad45e8c28"
      },
      "execution_count": 5,
      "outputs": [
        {
          "output_type": "stream",
          "name": "stdout",
          "text": [
            "+--------+---------------+----------------------+---------+------------+----------------------------------+--------------------------+--------------------------+\n",
            "| S.No   | CSR_PROJECT   | DEVLEOPMENT SECTOR   | STATE   | DISTRICT   | Project Amount Outlay(INR Cr.)   | Amount Spent (INR Cr.)   | Mode of Implementation   |\n",
            "|--------+---------------+----------------------+---------+------------+----------------------------------+--------------------------+--------------------------|\n",
            "+--------+---------------+----------------------+---------+------------+----------------------------------+--------------------------+--------------------------+\n"
          ]
        }
      ]
    },
    {
      "cell_type": "code",
      "source": [
        "from requests_html import AsyncHTMLSession\n",
        "import nest_asyncio\n",
        "import asyncio\n",
        "import pandas as pd\n",
        "from tabulate import tabulate\n",
        "\n",
        "async def fetch_data(url):\n",
        "    session = AsyncHTMLSession()\n",
        "    response = await session.get(url)\n",
        "    await response.html.arender(timeout=20, sleep=5)\n",
        "    csr_details_table = response.html.find('#csrDetailsTable')\n",
        "    csr_details_table_body = response.html.find('#csrDetailsTableBody')\n",
        "    await session.close()\n",
        "    return csr_details_table, csr_details_table_body\n",
        "\n",
        "async def main():\n",
        "    company_details = [\n",
        "        [\"Jsw Steel Limited\", \"https://www.csr.gov.in/content/csr/global/master/home/home/csr-expenditure--geographical-distribution/state/district/company.html?=Jsw%20Steel%20Limited=L27102MH1994PLC152925=FY%202021-22\"],\n",
        "        [\"Aurobindo Pharma Ltd\", \"https://www.mca.gov.in/content/csr/global/master/home/home/csr-expenditure--geographical-distribution/state/district/company.html?=Aurobindo%20Pharma%20Ltd=L24239TG1986PLC015190=FY%202021-22\"],\n",
        "        [\"Bharat Dynamics Limited\", \"https://www.mca.gov.in/content/csr/global/master/home/home/csr-expenditure--geographical-distribution/state/district/company.html?=Bharat%20Dynamics%20Limited=L24292TG1970GOI001353=FY%202021-22\"],\n",
        "    ]\n",
        "\n",
        "    all_table_data = []\n",
        "\n",
        "    for company_name, url in company_details:\n",
        "        print(f\"Fetching data for {company_name} from {url}\")\n",
        "        csr_details_table, csr_details_table_body = await fetch_data(url)\n",
        "        if csr_details_table_body:\n",
        "            print(f\"Found data for {company_name}\")\n",
        "            for row in csr_details_table_body[0].find('tr'):\n",
        "                cells = row.find('td')\n",
        "                if cells and len(cells) >= 4 and cells[2].text.strip() in [\"Education\"]:\n",
        "                    row_data = [company_name]\n",
        "                    for cell in cells:\n",
        "                        row_data.append(cell.text.strip())\n",
        "                    all_table_data.append(row_data)\n",
        "        else:\n",
        "            print(f\"No data found for {company_name}\")\n",
        "\n",
        "    if all_table_data:\n",
        "        print(f\"Number of rows found: {len(all_table_data)}\")\n",
        "\n",
        "        # Create DataFrame and save to CSV\n",
        "        column_names = [\"Company Name\", \"S.No\", \"CSR_PROJECT\", \"DEVLEOPMENT SECTOR\", \"STATE\", \"DISTRICT\", \"Project Amount Outlay(INR Cr.)\", \"Amount Spent (INR Cr.)\", \"Mode of Implementation\"]\n",
        "        df = pd.DataFrame(all_table_data, columns=column_names)\n",
        "        sorted_df = df.sort_values(by=[\"DEVLEOPMENT SECTOR\"], ascending=True)\n",
        "        sorted_df.set_index(\"Company Name\", inplace=True)\n",
        "        sorted_df.to_csv(\"filtered_data.csv\", index=True)\n",
        "        print(\"Data saved to filtered_data.csv\")\n",
        "\n",
        "        # Display the DataFrame as a table in the console\n",
        "        print(tabulate(sorted_df, headers='keys', tablefmt='psql'))\n",
        "    else:\n",
        "        print(\"No rows found containing 'Safe Drinking Water', 'Sanitation', or 'Environment' in the 4th column.\")\n",
        "\n",
        "nest_asyncio.apply()\n",
        "\n",
        "if __name__ == \"__main__\":\n",
        "    asyncio.run(main())\n"
      ],
      "metadata": {
        "colab": {
          "base_uri": "https://localhost:8080/"
        },
        "id": "vyXMyy3TT7Dx",
        "outputId": "fa18b181-ef34-4000-f4a3-b98627a8e464"
      },
      "execution_count": 9,
      "outputs": [
        {
          "output_type": "stream",
          "name": "stdout",
          "text": [
            "Fetching data for Jsw Steel Limited from https://www.csr.gov.in/content/csr/global/master/home/home/csr-expenditure--geographical-distribution/state/district/company.html?=Jsw%20Steel%20Limited=L27102MH1994PLC152925=FY%202021-22\n",
            "No data found for Jsw Steel Limited\n",
            "Fetching data for Aurobindo Pharma Ltd from https://www.mca.gov.in/content/csr/global/master/home/home/csr-expenditure--geographical-distribution/state/district/company.html?=Aurobindo%20Pharma%20Ltd=L24239TG1986PLC015190=FY%202021-22\n",
            "Found data for Aurobindo Pharma Ltd\n",
            "Fetching data for Bharat Dynamics Limited from https://www.mca.gov.in/content/csr/global/master/home/home/csr-expenditure--geographical-distribution/state/district/company.html?=Bharat%20Dynamics%20Limited=L24292TG1970GOI001353=FY%202021-22\n",
            "Found data for Bharat Dynamics Limited\n",
            "Number of rows found: 14\n",
            "Data saved to filtered_data.csv\n",
            "+-------------------------+--------+------------------------------------------------------------------------------------------------------+----------------------+----------------+--------------------+----------------------------------+--------------------------+-----------------------------+\n",
            "| Company Name            |   S.No | CSR_PROJECT                                                                                          | DEVLEOPMENT SECTOR   | STATE          | DISTRICT           |   Project Amount Outlay(INR Cr.) |   Amount Spent (INR Cr.) | Mode of Implementation      |\n",
            "|-------------------------+--------+------------------------------------------------------------------------------------------------------+----------------------+----------------+--------------------+----------------------------------+--------------------------+-----------------------------|\n",
            "| Aurobindo Pharma Ltd    |      1 | To Provide And Promote Quality Education For Underprivileged Students, Provided Salaries For 14 Vidy | Education            | Andhra Pradesh | Chittoor           |                                0 |                     0.44 | Directly by company         |\n",
            "| Aurobindo Pharma Ltd    |      2 | To Support With Fund For Sri Kalyana Venkateswara Vedapatasala Trust At Tirupathi                    | Education            | Andhra Pradesh | Chittoor           |                                0 |                     0    | Directly by company         |\n",
            "| Aurobindo Pharma Ltd    |      6 | To Provide And Promote Quality Education For Underprivileged Students, Provided Salaries For 14 Vidy | Education            | Pan India      | Nec/ Not Mentioned |                                0 |                     1.13 | Directly by company         |\n",
            "| Aurobindo Pharma Ltd    |     14 | Construction Of Additional Classrooms, Toilets And Other Infrastructure In Government Zph & Primary  | Education            | Telangana      | Hyderabad          |                                0 |                     0.24 | Directly by company         |\n",
            "| Aurobindo Pharma Ltd    |     15 | Construction Of Government Girls Junior College With 17 Classrooms And Other Infrastructure At Sanga | Education            | Telangana      | Hyderabad          |                                0 |                     0.99 | Directly by company         |\n",
            "| Aurobindo Pharma Ltd    |     16 | Construction Of Government Primary School With 8 Classrooms (G+1 Floor) And Other Infrastructure At  | Education            | Telangana      | Hyderabad          |                                0 |                     0.55 | Directly by company         |\n",
            "| Aurobindo Pharma Ltd    |     17 | Construction Of Vedapatasala With 30 Classrooms To Promote Vedic Schooling And Gurukula Education Sy | Education            | Telangana      | Hyderabad          |                                0 |                     1.5  | Other implementing agencies |\n",
            "| Aurobindo Pharma Ltd    |     18 | Education/Health/Women Empowerment Project With Rotary Foundation And District Collector, Towards Pr | Education            | Telangana      | Hyderabad          |                                0 |                     0    | Other implementing agencies |\n",
            "| Aurobindo Pharma Ltd    |     19 | To Provide And Promote Quality Education For Underprivileged Students, Provided Salaries For 14 Vidy | Education            | Telangana      | Hyderabad          |                                0 |                     0.04 | Other implementing agencies |\n",
            "| Aurobindo Pharma Ltd    |     20 | To Provide And Promote Quality Education For Underprivileged Students, Provided Salaries For 14 Vidy | Education            | Telangana      | Hyderabad          |                                0 |                     0.05 | Other implementing agencies |\n",
            "| Aurobindo Pharma Ltd    |     21 | To Provide And Promote Quality Education For Underprivileged Students, Provided Salaries For 14 Vidy | Education            | Telangana      | Hyderabad          |                                0 |                     0.07 | Other implementing agencies |\n",
            "| Bharat Dynamics Limited |      2 | Smart Class Rooms In Govt. Schools (Digital Learning)                                                | Education            | Andhra Pradesh | Visakhapatnam      |                                0 |                     0.8  | Directly by company         |\n",
            "| Bharat Dynamics Limited |      7 | Distribution Of Dual Desks To Govt. Schools                                                          | Education            | Telangana      | Hyderabad          |                                0 |                     0.8  | Directly by company         |\n",
            "| Bharat Dynamics Limited |     15 | Construction Of School Building                                                                      | Education            | Telangana      | Medak              |                                0 |                     1.53 | Directly by company         |\n",
            "+-------------------------+--------+------------------------------------------------------------------------------------------------------+----------------------+----------------+--------------------+----------------------------------+--------------------------+-----------------------------+\n"
          ]
        }
      ]
    }
  ]
}